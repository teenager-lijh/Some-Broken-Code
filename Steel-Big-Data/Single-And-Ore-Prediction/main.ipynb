{
 "cells": [
  {
   "cell_type": "code",
   "execution_count": 1,
   "metadata": {
    "collapsed": true
   },
   "outputs": [
    {
     "name": "stdout",
     "output_type": "stream",
     "text": [
      "[[ 5. 30. 35. 10. 20.]\n",
      " [10. 25. 35. 15. 15.]\n",
      " [15. 20. 35. 20. 10.]\n",
      " [20. 15. 35. 25.  5.]\n",
      " [10. 20. 30. 10. 30.]\n",
      " [ 5. 15. 30. 15. 35.]\n",
      " [20. 30. 30. 20.  0.]\n",
      " [15. 25. 30. 25.  5.]\n",
      " [15. 15. 25. 10. 35.]\n",
      " [20. 20. 25. 15. 20.]\n",
      " [ 5. 25. 25. 20. 25.]\n",
      " [10. 30. 25. 25. 10.]\n",
      " [20. 25. 20. 10. 25.]\n",
      " [15. 30. 20. 15. 20.]\n",
      " [10. 15. 20. 20. 35.]\n",
      " [ 5. 20. 20. 25. 30.]]\n",
      "[[1250.]\n",
      " [1248.]\n",
      " [1250.]\n",
      " [1245.]\n",
      " [1240.]\n",
      " [1230.]\n",
      " [1260.]\n",
      " [1250.]\n",
      " [1245.]\n",
      " [1245.]\n",
      " [1240.]\n",
      " [1250.]\n",
      " [1250.]\n",
      " [1253.]\n",
      " [1240.]\n",
      " [1250.]]\n"
     ]
    }
   ],
   "source": [
    "import torch\n",
    "import sklearn\n",
    "import numpy as np\n",
    "from tools.reader import CsvReader\n",
    "import matplotlib.pyplot as plt\n",
    "import csv\n",
    "\n",
    "'''\n",
    "只研究第一列的数据\n",
    "'''\n",
    "\n",
    "file_name = './data/data.csv'\n",
    "reader = CsvReader(file_name)\n",
    "all_data = reader.get_all_data()\n",
    "\n",
    "del all_data[0]\n",
    "\n",
    "feature = []\n",
    "for line in all_data[0:5]:\n",
    "    feature.append(float(line[0]))\n",
    "\n",
    "train = []\n",
    "for line in all_data[5:]:\n",
    "    temp = []\n",
    "    for item in line:\n",
    "        temp.append(float(item))\n",
    "    train.append(temp)\n",
    "\n",
    "# 数据 train 和 feature\n",
    "\n",
    "train = np.array(train)\n",
    "\n",
    "X_train = train[:, :-1]\n",
    "y_train = train[:, -1:]\n",
    "\n",
    "print(X_train)\n",
    "print(y_train)"
   ]
  },
  {
   "cell_type": "code",
   "execution_count": 7,
   "outputs": [
    {
     "data": {
      "text/plain": "<Figure size 432x288 with 1 Axes>",
      "image/png": "[encoded data removed]"
     },
     "metadata": {
      "needs_background": "light"
     },
     "output_type": "display_data"
    }
   ],
   "source": [
    "plt.scatter(X_train[:, 4:5], y_train)\n",
    "plt.show()"
   ],
   "metadata": {
    "collapsed": false,
    "pycharm": {
     "name": "#%%\n"
    }
   }
  },
  {
   "cell_type": "code",
   "execution_count": 8,
   "outputs": [
    {
     "data": {
      "text/plain": "LinearRegression()"
     },
     "execution_count": 8,
     "metadata": {},
     "output_type": "execute_result"
    }
   ],
   "source": [
    "from sklearn.linear_model import LinearRegression\n",
    "lin_reg = LinearRegression()\n",
    "lin_reg.fit(X_train, y_train)"
   ],
   "metadata": {
    "collapsed": false,
    "pycharm": {
     "name": "#%%\n"
    }
   }
  },
  {
   "cell_type": "code",
   "execution_count": 9,
   "outputs": [
    {
     "data": {
      "text/plain": "array([[1246.925]])"
     },
     "execution_count": 9,
     "metadata": {},
     "output_type": "execute_result"
    }
   ],
   "source": [
    "lin_reg.predict(X_train[:1, :])"
   ],
   "metadata": {
    "collapsed": false,
    "pycharm": {
     "name": "#%%\n"
    }
   }
  },
  {
   "cell_type": "code",
   "execution_count": 11,
   "outputs": [
    {
     "data": {
      "text/plain": "array([[1242.125]])"
     },
     "execution_count": 11,
     "metadata": {},
     "output_type": "execute_result"
    }
   ],
   "source": [
    "lin_reg.predict(X_train[-1:, :])"
   ],
   "metadata": {
    "collapsed": false,
    "pycharm": {
     "name": "#%%\n"
    }
   }
  },
  {
   "cell_type": "code",
   "execution_count": 12,
   "outputs": [],
   "source": [
    "y_predict = lin_reg.predict(X_train)"
   ],
   "metadata": {
    "collapsed": false,
    "pycharm": {
     "name": "#%%\n"
    }
   }
  },
  {
   "cell_type": "code",
   "execution_count": 13,
   "outputs": [
    {
     "data": {
      "text/plain": "array([[1246.925],\n       [1246.725],\n       [1246.525],\n       [1246.325],\n       [1241.575],\n       [1235.875],\n       [1257.375],\n       [1251.675],\n       [1240.275],\n       [1248.175],\n       [1245.075],\n       [1252.975],\n       [1251.125],\n       [1253.525],\n       [1239.725],\n       [1242.125]])"
     },
     "execution_count": 13,
     "metadata": {},
     "output_type": "execute_result"
    }
   ],
   "source": [
    "y_predict"
   ],
   "metadata": {
    "collapsed": false,
    "pycharm": {
     "name": "#%%\n"
    }
   }
  },
  {
   "cell_type": "code",
   "execution_count": 14,
   "outputs": [],
   "source": [
    "from sklearn.metrics import r2_score"
   ],
   "metadata": {
    "collapsed": false,
    "pycharm": {
     "name": "#%%\n"
    }
   }
  },
  {
   "cell_type": "code",
   "execution_count": 15,
   "outputs": [
    {
     "data": {
      "text/plain": "0.713425433935529"
     },
     "execution_count": 15,
     "metadata": {},
     "output_type": "execute_result"
    }
   ],
   "source": [
    "r2_score(y_train, y_predict)"
   ],
   "metadata": {
    "collapsed": false,
    "pycharm": {
     "name": "#%%\n"
    }
   }
  },
  {
   "cell_type": "code",
   "execution_count": null,
   "outputs": [],
   "source": [],
   "metadata": {
    "collapsed": false,
    "pycharm": {
     "name": "#%%\n"
    }
   }
  }
 ],
 "metadata": {
  "kernelspec": {
   "display_name": "Python 3",
   "language": "python",
   "name": "python3"
  },
  "language_info": {
   "codemirror_mode": {
    "name": "ipython",
    "version": 2
   },
   "file_extension": ".py",
   "mimetype": "text/x-python",
   "name": "python",
   "nbconvert_exporter": "python",
   "pygments_lexer": "ipython2",
   "version": "2.7.6"
  }
 },
 "nbformat": 4,
 "nbformat_minor": 0
}